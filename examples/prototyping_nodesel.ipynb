{
 "cells": [
  {
   "cell_type": "markdown",
   "id": "004b5e4b",
   "metadata": {},
   "source": [
    "#### Building ecole\n",
    "\n",
    "* [configure with cmake](../ecole/docs/contributing.rst#L93) and [build](../ecole/docs/contributing.rst#L112)\n",
    "* before building, do not forget to update the [CMakeLists.txt](../ecole/libecole/CMakeLists.txt) by including the new `*.cpp` files in the `add_library` section\n",
    "* **DO NOT** forget to prefix jupyter or python with `PYTHONPATH=\"${PWD}/build/cmake/python/ecole\"` when developing\n",
    "* ensure no warnings and use `pybind11`\n",
    "* these [docs](./ecole/docs/create-environment.rst) are very useful\n",
    "\n",
    "```bash\n",
    "# conda update -n base -c defaults conda\n",
    "# conda deactivate && conda env remove -n learn2branch\n",
    "\n",
    "conda create -n learn2branch \"python>3.9\" pip setuptools \\\n",
    "  numpy \"scipy>1.7\" matplotlib scikit-learn notebook ipywidgets \\\n",
    "  scikit-build cython cmake pybind11 clang-tools graphviz \\\n",
    "  \"pytorch::pytorch==1.12.1\" networkx \"conda-forge::pyscipopt\"\n",
    "\n",
    "# developing\n",
    "conda activate learn2branch\n",
    "cd ecole\n",
    "\n",
    "# configure with CMake\n",
    "./dev/run.sh configure -D ECOLE_DEVELOPER=ON\n",
    "\n",
    "# rebuild\n",
    "clear && ./dev/run.sh build-lib -- build-py\n",
    "\n",
    "export PYTHONPATH=\"${PWD}/build/cmake/python/ecole\"\n",
    "echo $PYTHONPATH\n",
    "\n",
    "PYTHONPATH=$PYTHONPATH jupyter notebook --no-browser --prot=8889\n",
    "```"
   ]
  },
  {
   "cell_type": "markdown",
   "id": "6042e45c",
   "metadata": {},
   "source": [
    "#### Inversion of control by Ecole\n",
    "\n",
    "Ecole implements control inversion with the help of a thread-based [coroutine](./ecole/libecole/include/utility/coroutine.hpp) and SCIP's [obj*](./scip-8.0.1/src/objscip/) plug-in interface.\n",
    "\n",
    "Considering branching rules as an example, Ecole [implements](./ecole/libecole/src/scip/scimpl.cpp#L70-169) a C++ level interface [ObjBranchrule](./scip-8.0.1/src/objscip/objbranchrule.h) for a special branching rule and registers it through [SCIPincludeObjBranchrule](./scip-8.0.1/src/objscip/objbranchrule.cpp#229)\n",
    "in [include_reverse_callback](./ecole/libecole/src/scip/scimpl.cpp#L171) called by [solve_iter()](./ecole/libecole/src/scip/scimpl.cpp#L389) in SCIP's fresh coro thread."
   ]
  },
  {
   "cell_type": "markdown",
   "id": "c67ab25e",
   "metadata": {},
   "source": [
    "Ecole's special object lives in __SCIP's thread__ and intercepts it's indirect calls to `scip_exec*` methods. The call chain from [SCIPsolve](./scip-8.0.1/src/scip/scip_solve.c#L2613)\n",
    "1. [SCIPsolveCIP](./scip-8.0.1/src/scip/scip_solve.c#L2745)\n",
    "1. [solveNode](./scip-8.0.1/src/scip/solve.c#L4982)\n",
    "2. [SCIPbranchExecLP](./scip-8.0.1/src/scip/solve.c#L4420)\n",
    "3. [SCIPbranchruleExecLPSol](./scip-8.0.1/src/scip/solve.c#L2560)\n",
    "4. [branchrule->branchexeclp()](./scip-8.0.1/src/scip/solve.c#L1581)\n",
    "6. [SCIP_Branchrule.branchexeclp](./scip-8.0.1/src/scip/struct_branch.h#L91) is set to `scip_execlp` method by [SCIPincludeObjBranchrule](./scip-8.0.1/src/objscip/objbranchrule.cpp#229)\n",
    "\n",
    "Ecole then routes each call to the coro executor [std::weak_ptr\\<Executor\\> m_weak_executor](./ecole/libecole/src/scip/scimpl.cpp#L161), which then [yields](./ecole/libecole/src/scip/scimpl.cpp#L64) (suspends SCIP's thread, transfers data and control) to ecole's thread, which is resumed at a [wait](./ecole/libecole/src/scip/scimpl.cpp#L400). Either from [solve_iter](./ecole/libecole/src/scip/scimpl.cpp#L386) or [solve_iter_continue](./ecole/libecole/src/scip/scimpl.cpp#L398) the message from the coro ends up processed by the current [dynamics](./ecole/libecole/src/dynamics/branching.cpp#L43) and the control finally returns to python. Afterwards, an eventual call to [step_dynamics](./ecole/libecole/src/dynamics/branching.cpp#L75) passes through to [solve_iter_continue](./ecole/libecole/src/scip/scimpl.cpp#L398) which suspends the Ecole's thread, and [resumes](./ecole/libecole/src/scip/scimpl.cpp#L399) the SCIP's thread at the end of its current `yield`."
   ]
  },
  {
   "cell_type": "markdown",
   "id": "1508f1c6",
   "metadata": {},
   "source": [
    "This interaction is very similar to python's generator-as-a-coroutine interface\n",
    "* `a = yield b  <<-->> b = .send(a)`\n",
    "\n",
    "The code below ilustrates the cooperation between ecole and scip\n",
    "```python\n",
    "# types in `scmipl.cpp`\n",
    "DynamicConstructor = callable\n",
    "DynamicCall = object\n",
    "TerminalCall = object\n",
    "SCIP_RESULT = int\n",
    "Action = object\n",
    "\n",
    "class ecole:\n",
    "    \"\"\"Hopefully this illustrates the interaction.\n",
    "\n",
    "    Lines are as of commit 2326b70 in the `nodesel` branch\n",
    "    \"\"\"\n",
    "\n",
    "    m_controller: iter\n",
    "    n_iter: int\n",
    "    Observation = (object, bool, int)\n",
    "\n",
    "    def scip(\n",
    "        self,\n",
    "        ctor: DynamicConstructor,\n",
    "    ) -> DynamicCall:\n",
    "        \"\"\"./ecole/libecole/src/scip/scimpl.cpp#L391\"\"\"\n",
    "        # ReverseBranchrule calls SCIPincludeObjBranchrule\n",
    "        n_total_iter = ctor()\n",
    "\n",
    "        # SCIP_STAGE_SOLVING\n",
    "        n_iter = 0\n",
    "        while n_iter < n_total_iter:\n",
    "            # SCIP can be modified while its thread is suspended\n",
    "            result = yield DynamicCall\n",
    "            n_iter += 1\n",
    "            if result is not SCIP_RESULT:\n",
    "                break\n",
    "\n",
    "        # SCIP_STAGE_SOLVED\n",
    "        return TerminalCall\n",
    "    \n",
    "    def affect_scip(self, act: Action) -> SCIP_RESULT:\n",
    "        \"\"\"./ecole/libecole/src/dynamics/branching.cpp#L70\"\"\"\n",
    "        # implement `act` by calling `SCIP*`, then return\n",
    "        #  the SCIP_RESULT (SCIP_DIDNOTRUN, SCIP_SUCCESS)\n",
    "\n",
    "        # return self.scip.branch_var(act)\n",
    "        return SCIP_RESULT\n",
    "    \n",
    "    def solve_iter(\n",
    "        self,\n",
    "        ctor: DynamicConstructor,\n",
    "    ) -> DynamicCall:\n",
    "        \"\"\"./ecole/libecole/src/scip/scimpl.cpp#L386\"\"\"\n",
    "        # init-wait\n",
    "        self.m_controller = self.scip(ctor)\n",
    "        request = self.m_controller.send(None)\n",
    "\n",
    "        assert request is DynamicCall\n",
    "        return request\n",
    "\n",
    "    def solve_iter_continue(\n",
    "        self,\n",
    "        result: SCIP_RESULT,\n",
    "    ) -> DynamicCall:\n",
    "        \"\"\"./ecole/libecole/src/scip/scimpl.cpp#L398\"\"\"\n",
    "        # resume-wait\n",
    "        request = self.m_controller.send(result)\n",
    "\n",
    "        assert request is DynamicCall\n",
    "        return request\n",
    "\n",
    "    def reset(self, n_total: int) -> Observation:\n",
    "        \"\"\"./ecole/libecole/src/dynamics/branching.cpp#L51\"\"\"\n",
    "        try:\n",
    "            self.n_iter = 0\n",
    "            return (\n",
    "                self.solve_iter(lambda: n_total),\n",
    "                False,\n",
    "                self.n_iter,\n",
    "            )\n",
    "\n",
    "        except StopIteration as e:\n",
    "            \"\"\"./ecole/libecole/src/dynamics/branching.cpp#L36\"\"\"\n",
    "            assert e.value is TerminalCall\n",
    "            return (None, True, self.n_iter)\n",
    "\n",
    "    def step(self, act: Action) -> Observation:\n",
    "        \"\"\"./ecole/libecole/src/dynamics/branching.cpp#L56\"\"\"\n",
    "        try:\n",
    "            self.n_iter += 1\n",
    "            result = self.affect_scip(act)\n",
    "            return (\n",
    "                self.solve_iter_continue(result),\n",
    "                False,\n",
    "                self.n_iter,\n",
    "            )\n",
    "\n",
    "        except StopIteration as e:\n",
    "            \"\"\"./ecole/libecole/src/dynamics/branching.cpp#L36\"\"\"\n",
    "            assert e.value is TerminalCall\n",
    "            return (None, True, self.n_iter)\n",
    "\n",
    "\n",
    "# launch ecole\n",
    "env = ecole()\n",
    "\n",
    "obs, fin, nfo = env.reset(3)\n",
    "while not fin:\n",
    "    print(obs, fin, nfo)\n",
    "    obs, fin, nfo = env.step(Action)\n",
    "print(obs, fin, nfo)\n",
    "```"
   ]
  },
  {
   "cell_type": "markdown",
   "id": "55a627aa",
   "metadata": {},
   "source": [
    "* is this code worth a thousand words?"
   ]
  },
  {
   "cell_type": "markdown",
   "id": "937df026",
   "metadata": {},
   "source": [
    "#### nodesel\n",
    "\n",
    "the [Nodesel](./ecole/libecole/src/dynamics/nodesel.cpp) scip dynamics is almost a carbon copy of the branchrule interceptor.\n",
    "\n",
    "The main issue is that the next node `SCIP_NODE *nextnode`, when being selected form the global prio-queue with [SCIPnodeselSelect](./scip-8.0.1/src/scip/solve.c#L5159) of the active `nodesel`, appears to be in an unprocessed state\n",
    "* in fact the `SCIP_NODE *focusnode` is actually set in the cutoff sub-loop [#L4914-4953](./scip-8.0.1/src/scip/solve.c#L4933)\n",
    "* the node is processed by [SCIPnodeFocus](./src/scip/solve.c#L4943)\n",
    "* [SCIPnodeFocus](./scip-8.0.1/src/scip/tree.c#L4298-4756) cuts off, checks infeasibility and maintain the bnb tree (based on a cursory reading)\n",
    "* only then it calls [solveNode](./scip-8.0.1/src/scip/solve.c#L4985), which adds cuts, domain tightening and etc."
   ]
  },
  {
   "cell_type": "markdown",
   "id": "dc82122a",
   "metadata": {},
   "source": [
    "##### Must implement\n",
    "\n",
    "The nodesel interface [SCIP_Nodesel](./scip-8.0.1/src/scip/type_nodesel.h#L101-131):\n",
    "- [x] [ObjNodesel->scip_select(..., SCIP_NODE** selnode)](./scip-8.0.1/src/objscip/objnodesel.h#L136-140) put the the selected `SCIP_NODE*` into `*selnode`\n",
    "- [x] [ObjNodesel->scip_comp(..., SCIP_NODE* n1, SCIP_NODE* n2)](./scip-8.0.1/src/objscip/objnodesel.h#L142-146) return `0` if `n1` and `n2` are equally good, `> 0` if `n2` is worse than `n1`, `< 0` otherwise\n",
    "  - we may leave this as a trivial function returning 0, but it is better to compare the nodes by their lower bound (SCIP transparently transforms a porblem into minimization)\n",
    "- Apparently different nodesels manage and resort the same `.leaves` pq\n",
    " - a good example of a `nodesel` is [nodesel_uct](./scip-8.0.1/src/scip/nodesel_uct.h#L189-242), which computes the UCT score of the leave nodes during `nodeselSelectUct` based on\n",
    "$$\n",
    "\\mathrm{uct}_v\n",
    "    = \\underbrace{\n",
    "        \\frac{\n",
    "            \\mathrm{lp}_\\circ - \\mathrm{lp}_v\n",
    "        }{\\max\\{1, \\min\\{\n",
    "            \\lvert \\mathrm{lp}_\\circ \\rvert,\n",
    "            \\lvert \\mathrm{lp}_v \\rvert\n",
    "        \\}\\}}\n",
    "    }_{\\text{score of node } v}\n",
    "    + C \\frac{n_{\\pi_v}}{1 + n_v}\n",
    "    \\,. $$\n",
    "  - SCIP also has a Bandit plugin support for adaptive large neighbourhood search [heurExecAlns](./scip-8.0.1/src/scip/heur_alns.c#L2294)\n",
    "$$\n",
    "\\mathrm{ucb}_a\n",
    "    = \\hat{\\mu}_a\n",
    "    + \\alpha \\sqrt{\\frac{\\log{(1 + n})}{n_a}}\n",
    "\\,. $$"
   ]
  },
  {
   "cell_type": "markdown",
   "id": "a379553d",
   "metadata": {},
   "source": [
    "#### nodesel proper\n",
    "\n",
    "- [x] implement the number-to-node mapping [nodesel.cpp](../ecole/libecole/src/dynamics/nodesel.cpp)\n",
    "  - the action is the number which has to be manually mapped back to an open node, unlike branchrule, which returns the natural variabls indices\n",
    "  - we could communicate `SCIP_NODE*` [py::capsules](https://docs.python.org/3/c-api/capsule.html) but that would break the separation of the python-related code from the pure cpp-core of `libecole`\n",
    "  - use `scip::call(SCIPgetOpenNodesData, ...)` to get the open leaf, child and sibling nodes\n",
    "- [x] decalre the nodesel interceptor class [nodesel.hpp](../ecole/libecole/include/ecole/dynamics/nodesel.hpp)\n",
    "- [x] define the nodesel constructor and dynamic calls [callback.hpp](../ecole/libecole/include/ecole/scip/callback.hpp)\n",
    "- [ ] "
   ]
  },
  {
   "cell_type": "markdown",
   "id": "8ee7e149",
   "metadata": {},
   "source": [
    "#### Alternatives to Ecole\n",
    "\n",
    "Btw, there might be a way to implement nodesel and branchrule through `pyscipopt`. Especially, since they expose the node objects, and branchrule objects as well. Although it is possible to collect features using the bare `pyscipopt` interface (`pyscipopt>=4.0`), it appears that we can access the LP data of the __focus node__ only, and all open nodes on their own do not have methods to retrieve any LP, because they have not been visited/processed. Possibly, this is how it is for reasons of memory conservation, especially since the forntier of grows super-linearly.\n",
    "\n",
    "```python\n",
    "import pyscipopt as scip\n",
    "\n",
    "# Base class of the Nodesel Plugin\n",
    "class NodeselDynamics(scip.Nodesel):\n",
    "    # ./src/scip/struct_nodesel.h\n",
    "    # https://github.com/scipopt/PySCIPOpt/blob/master/src/pyscipopt/nodesel.pxi\n",
    "    # https://github.com/ds4dm/learn2branch/blob/master/02_generate_dataset.py\n",
    "    def __init__(self) -> None:\n",
    "        # No need to pass a scip.Model here, since  `m.includeNodesel`\n",
    "        #  already inits the `self.model` to the current model\n",
    "        pass\n",
    "\n",
    "    def nodeinit(self):\n",
    "        pass\n",
    "\n",
    "    def nodeselect(self) -> dict[str, scip.Node]:\n",
    "        # https://github.com/scipopt/PySCIPOpt/blob/master/src/pyscipopt/nodesel.pxi#L85-L92\n",
    "        return {\"selnode\": None}\n",
    "\n",
    "    def nodecomp(self, n1: scip.Node, n2: scip.Node) -> int:\n",
    "        return 0\n",
    "\n",
    "m = scip.Model()\n",
    "\n",
    "# ...\n",
    "\n",
    "nodesel = NodeselDynamics()\n",
    "m.includeNodesel(\n",
    "    nodesel=nodesel,\n",
    "    name=\"\",\n",
    "    desc=\"\",\n",
    "    stdpriority=666_666,\n",
    "    memsavepriority=666_666,\n",
    ")\n",
    "# we can add other interceptors here and we will get\n",
    "#  called at appropriate times.\n",
    "```"
   ]
  },
  {
   "cell_type": "markdown",
   "id": "6d3cd4ed",
   "metadata": {},
   "source": [
    "<br>"
   ]
  },
  {
   "cell_type": "code",
   "execution_count": null,
   "id": "c3ad8e33",
   "metadata": {},
   "outputs": [],
   "source": [
    "import ecole as ec\n",
    "\n",
    "c = ec.scip.callback.NodeselCall()"
   ]
  },
  {
   "cell_type": "code",
   "execution_count": null,
   "id": "13df7a9a",
   "metadata": {},
   "outputs": [],
   "source": [
    "import ecole as ec\n",
    "from pyscipopt import scip\n",
    "\n",
    "class NodeselEnv(ec.environment.Environment):\n",
    "    __Dynamics__ = ec.dynamics.NodeselDynamics\n",
    "    \n",
    "\n",
    "it = ec.instance.SetCoverGenerator()\n",
    "\n",
    "\n",
    "env = NodeselEnv(\n",
    "    # observation_function=ec.observation.NodeBipartite(),\n",
    "    scip_params= {\n",
    "        \"timing/clocktype\": 2,  # XXX Wall clock time\n",
    "        \"limits/time\": 3600,\n",
    "        #     \"limits/gap\": 1e-2,\n",
    "        #     \"limits/nodes\": 10,\n",
    "        # deactivate presolving\n",
    "        \"presolving/maxrounds\": 0,\n",
    "        \"separating/maxrounds\": 0,\n",
    "        \"presolving/maxrestarts\": 0,\n",
    "        # sum score function\n",
    "        \"branching/scorefunc\": \"s\",\n",
    "        #     \"branching/scorefac\": 0.5,\n",
    "        # SCIP-s default FSB heuristic is an advanced version of SB and non-idempotent\n",
    "        #  meaning that it may silently alter the state of the search tree\n",
    "        #     \"branching/vanillafullstrong/idempotent\": True,\n",
    "        \"branching/vanillafullstrong/priority\": 666666,  # use vanillafullstrong (highest priority)\n",
    "    },\n",
    ")"
   ]
  },
  {
   "cell_type": "markdown",
   "id": "fea549a0",
   "metadata": {},
   "source": [
    "<br>"
   ]
  },
  {
   "cell_type": "markdown",
   "id": "34f5888e",
   "metadata": {},
   "source": [
    "A simple node priority queue"
   ]
  },
  {
   "cell_type": "code",
   "execution_count": null,
   "id": "9904a4c4",
   "metadata": {},
   "outputs": [],
   "source": [
    "from itertools import chain\n",
    "\n",
    "from heapq import heappush, heappop\n",
    "from collections import namedtuple\n",
    "\n",
    "NT = namedtuple(\"NT\", \"v,j\")\n",
    "\n",
    "def enqueue(m: scip.Model, pq: list, inq: set) -> None:\n",
    "    # add leaves, childrean and siblings to the LP bound prio queue\n",
    "    for node in chain(*m.getOpenNodes()):\n",
    "        id = node.getNumber()\n",
    "\n",
    "        # it is the set iff it is in the queue\n",
    "        if id not in inq:\n",
    "            heappush(pq, NT(node.getLowerbound(), id))\n",
    "            inq.add(id)"
   ]
  },
  {
   "cell_type": "markdown",
   "id": "84f28895",
   "metadata": {},
   "source": [
    "An example"
   ]
  },
  {
   "cell_type": "code",
   "execution_count": null,
   "id": "ef74a2cc",
   "metadata": {},
   "outputs": [],
   "source": [
    "p = next(it)"
   ]
  },
  {
   "cell_type": "code",
   "execution_count": null,
   "id": "015a08c6",
   "metadata": {
    "scrolled": false
   },
   "outputs": [],
   "source": [
    "# actset is a little redundant: we could just as well have\n",
    "#  generated the same lists in python\n",
    "pq, inq, trace = [], set(), []\n",
    "obs, actset, rew, fin, nfo = env.reset(p)\n",
    "\n",
    "m = env.model.as_pyscipopt()\n",
    "enqueue(m, pq, inq)\n",
    "\n",
    "sign = -1. if m.getObjectiveSense()[:3] == \"max\" else +1.\n",
    "while actset is not None and True:\n",
    "    val, node = heappop(pq)\n",
    "    inq.remove(node)\n",
    "    trace.append((node, sign * val, m.getPrimalbound()))\n",
    "\n",
    "    leaves, children, siblings = actset\n",
    "    print(leaves, children, siblings)\n",
    "\n",
    "#     node_id = next(chain(leaves, children, siblings))\n",
    "    obs, actset, rew, fin, nfo = env.step(node)\n",
    "\n",
    "    m = env.model.as_pyscipopt()\n",
    "    enqueue(m, pq, inq)\n",
    "    if len(trace) > 0:\n",
    "        break"
   ]
  },
  {
   "cell_type": "code",
   "execution_count": null,
   "id": "99220004",
   "metadata": {},
   "outputs": [],
   "source": [
    "# Khalil\n",
    "# set_objective_function_coefficient(out, col);\n",
    "# set_number_constraints(out, col);\n",
    "# set_static_stats_for_constraint_degree(out, rows);\n",
    "# set_stats_for_constraint_positive_coefficients(out, coefficients);\n",
    "# set_stats_for_constraint_negative_coefficients(out, coefficients);"
   ]
  },
  {
   "cell_type": "code",
   "execution_count": null,
   "id": "875dc95b",
   "metadata": {},
   "outputs": [],
   "source": [
    "# `model.getState` is missing from scip-8.0\n",
    "cands, *_ = m.getPseudoBranchCands()"
   ]
  },
  {
   "cell_type": "code",
   "execution_count": null,
   "id": "c705cb78",
   "metadata": {},
   "outputs": [],
   "source": [
    "import networkx as nx\n",
    "\n",
    "cols = m.getLPColsData()\n",
    "rows = m.getLPRowsData()\n",
    "# cons = m.getConss()\n",
    "for col in cols:\n",
    "    col.getObjCoeff()\n",
    "    var_ = col.getVar()\n",
    "    # var_.getIndex()\n",
    "    # col_ = var_.getCol()\n",
    "    break\n",
    "\n",
    "# reconstruct the bi-partite graph for the current LP\n",
    "# LP rows and cols are -ve and +ve nodes, respectively.\n",
    "G = nx.DiGraph()\n",
    "for row in rows:\n",
    "    row_ = row.getLPPos()\n",
    "    if row.getLPPos() == -1:\n",
    "        continue\n",
    "\n",
    "    # get the variables and the coefficient\n",
    "    for col_, coef_ in zip(row.getCols(), row.getVals()):\n",
    "        var_ = col_.getVar()\n",
    "        G.add_edge(-(row_ + 1), var_.getIndex(), weight=coef_)\n",
    "    # row.getLPPos()\n",
    "    # row.getLhs(), row.getRhs()\n",
    "#     break"
   ]
  },
  {
   "cell_type": "raw",
   "id": "a5541a36",
   "metadata": {},
   "source": [
    "nx.get_edge_attributes(G, \"weight\")"
   ]
  },
  {
   "cell_type": "code",
   "execution_count": null,
   "id": "b9634c51",
   "metadata": {},
   "outputs": [],
   "source": [
    "one, *nodes = chain(*m.getOpenNodes())"
   ]
  },
  {
   "cell_type": "code",
   "execution_count": null,
   "id": "b2b8e917",
   "metadata": {},
   "outputs": [],
   "source": [
    "cur = m.getCurrentNode()\n",
    "cur."
   ]
  },
  {
   "cell_type": "code",
   "execution_count": null,
   "id": "faa16d6a",
   "metadata": {},
   "outputs": [],
   "source": [
    "m.getRowDualSol(rows[2])"
   ]
  },
  {
   "cell_type": "code",
   "execution_count": null,
   "id": "861635ac",
   "metadata": {},
   "outputs": [],
   "source": [
    "m.getDualSolVal(cons[2])"
   ]
  },
  {
   "cell_type": "code",
   "execution_count": null,
   "id": "465199e5",
   "metadata": {},
   "outputs": [],
   "source": [
    "m."
   ]
  },
  {
   "cell_type": "code",
   "execution_count": null,
   "id": "a0bf6c93",
   "metadata": {},
   "outputs": [],
   "source": [
    "m.getLPColsData()  \n",
    "# SCIPcolGetObj\n",
    "ex = {\n",
    "    t.vartuple[0].getIndex(): c\n",
    "    for t, c in m.getObjective().terms.items()\n",
    "}\n",
    "\n",
    "v, *rest = m.getVars()\n",
    "\n",
    "ex[v.getIndex()]"
   ]
  },
  {
   "cell_type": "code",
   "execution_count": null,
   "id": "b03e7ea3",
   "metadata": {},
   "outputs": [],
   "source": [
    "n, d, p = zip(*trace)\n",
    "\n",
    "from matplotlib import pyplot as plt\n",
    "plt.plot(p[1:])\n",
    "plt.plot(d[1:])"
   ]
  },
  {
   "cell_type": "code",
   "execution_count": null,
   "id": "918f431c",
   "metadata": {},
   "outputs": [],
   "source": [
    "env.model.dual_bound, env.model.primal_bound"
   ]
  },
  {
   "cell_type": "code",
   "execution_count": null,
   "id": "a4f607f9",
   "metadata": {},
   "outputs": [],
   "source": [
    "n: scip.Node = m.getCurrentNode()\n",
    "n.getLowerbound()"
   ]
  },
  {
   "cell_type": "code",
   "execution_count": null,
   "id": "b6694c23",
   "metadata": {},
   "outputs": [],
   "source": [
    "nodes = list(chain(*m.getOpenNodes()))"
   ]
  },
  {
   "cell_type": "code",
   "execution_count": null,
   "id": "e0aabd30",
   "metadata": {},
   "outputs": [],
   "source": [
    "n = nodes[4]\n",
    "d = n.getDomchg()\n",
    "d.getBoundchgs()"
   ]
  },
  {
   "cell_type": "code",
   "execution_count": null,
   "id": "8cd51c1c",
   "metadata": {},
   "outputs": [],
   "source": [
    "n = m.getCurrentNode()\n",
    "r, *rest = m.getLPRowsData()"
   ]
  },
  {
   "cell_type": "code",
   "execution_count": null,
   "id": "bccf30dd",
   "metadata": {},
   "outputs": [],
   "source": [
    "d = n.getDomchg()\n",
    "b, *rest = d.getBoundchgs()\n",
    "v = b.getVar()\n",
    "c = v.getCol()\n",
    "c.getLPPos()"
   ]
  },
  {
   "cell_type": "code",
   "execution_count": null,
   "id": "2da3aabd",
   "metadata": {},
   "outputs": [],
   "source": [
    "rest"
   ]
  },
  {
   "cell_type": "code",
   "execution_count": null,
   "id": "d4d87def",
   "metadata": {},
   "outputs": [],
   "source": [
    "r.getLPPos()"
   ]
  },
  {
   "cell_type": "markdown",
   "id": "4bb0384d",
   "metadata": {},
   "source": [
    "<br>"
   ]
  },
  {
   "cell_type": "code",
   "execution_count": null,
   "id": "5340a59e",
   "metadata": {},
   "outputs": [],
   "source": [
    "m = env.model.as_pyscipopt()\n",
    "\n",
    "leaves, children, siblings = m.getOpenNodes()"
   ]
  },
  {
   "cell_type": "code",
   "execution_count": null,
   "id": "a5ecfbe8",
   "metadata": {},
   "outputs": [],
   "source": [
    "s_leaves = set(map(scip.Node.getNumber, leaves))\n",
    "s_children = set(map(scip.Node.getNumber, children))\n",
    "s_siblings = set(map(scip.Node.getNumber, siblings))"
   ]
  },
  {
   "cell_type": "code",
   "execution_count": null,
   "id": "afa5bed7",
   "metadata": {},
   "outputs": [],
   "source": [
    "s_leaves, s_siblings, s_children,"
   ]
  },
  {
   "cell_type": "code",
   "execution_count": null,
   "id": "09527775",
   "metadata": {},
   "outputs": [],
   "source": [
    "m.getCurrentNode()"
   ]
  },
  {
   "cell_type": "code",
   "execution_count": null,
   "id": "6937ace4",
   "metadata": {},
   "outputs": [],
   "source": [
    "from itertools import chain\n",
    "\n",
    "node, *ignore = chain(*m.getOpenNodes())"
   ]
  },
  {
   "cell_type": "code",
   "execution_count": null,
   "id": "c1fb6f6d",
   "metadata": {},
   "outputs": [],
   "source": [
    "node.getNumber()"
   ]
  },
  {
   "cell_type": "code",
   "execution_count": null,
   "id": "ec46e73b",
   "metadata": {},
   "outputs": [],
   "source": [
    "env.step(1)"
   ]
  },
  {
   "cell_type": "code",
   "execution_count": null,
   "id": "2da9d86f",
   "metadata": {},
   "outputs": [],
   "source": []
  }
 ],
 "metadata": {
  "kernelspec": {
   "display_name": "Python 3 (ipykernel)",
   "language": "python",
   "name": "python3"
  },
  "language_info": {
   "codemirror_mode": {
    "name": "ipython",
    "version": 3
   },
   "file_extension": ".py",
   "mimetype": "text/x-python",
   "name": "python",
   "nbconvert_exporter": "python",
   "pygments_lexer": "ipython3",
   "version": "3.10.4"
  }
 },
 "nbformat": 4,
 "nbformat_minor": 5
}
